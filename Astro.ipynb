{
  "nbformat": 4,
  "nbformat_minor": 0,
  "metadata": {
    "colab": {
      "provenance": []
    },
    "kernelspec": {
      "name": "python3",
      "display_name": "Python 3"
    },
    "language_info": {
      "name": "python"
    }
  },
  "cells": [
    {
      "cell_type": "code",
      "execution_count": null,
      "metadata": {
        "colab": {
          "base_uri": "https://localhost:8080/"
        },
        "id": "gzomONBJL7Gg",
        "outputId": "ffb5a56b-f01c-47fd-e528-c96bbf98d5f6"
      },
      "outputs": [
        {
          "output_type": "stream",
          "name": "stderr",
          "text": [
            "WARNING: TimeDeltaMissingUnitWarning: Numerical value without unit or explicit format passed to TimeDelta, assuming days [astropy.time.core]\n",
            "WARNING:astropy:TimeDeltaMissingUnitWarning: Numerical value without unit or explicit format passed to TimeDelta, assuming days\n"
          ]
        }
      ],
      "source": [
        "from astropy.coordinates import SkyCoord, EarthLocation, AltAz\n",
        "from astropy.time import Time, TimeDelta\n",
        "import numpy as np\n",
        "\n",
        "# Define the coordinates of the object\n",
        "ra = '5h34m31s'\n",
        "dec = '+22d00m52s'\n",
        "coord = SkyCoord(ra, dec, frame='icrs')\n",
        "\n",
        "# Define the location (longitude, latitude, elevation)\n",
        "location = EarthLocation(lat='18d54m36s', lon='72d48m36s', height=0)\n",
        "\n",
        "start_time = Time('2023-01-01')\n",
        "end_time = Time('2023-12-31')\n",
        "timestamps = Time(np.arange(start_time, end_time, TimeDelta(3600, format='sec')))\n",
        "altaz = []\n",
        "# Convert to Altitude and Azimuth\n",
        "for t in timestamps:\n",
        "  altaz.append(coord.transform_to(AltAz(obstime=t, location=location)))"
      ]
    },
    {
      "cell_type": "code",
      "source": [
        "alt = []\n",
        "az = []\n",
        "for a in altaz:\n",
        "  alt.append(a.alt)\n",
        "  az.append(a.az)"
      ],
      "metadata": {
        "id": "aHRM9D-PXzW8"
      },
      "execution_count": null,
      "outputs": []
    },
    {
      "cell_type": "code",
      "source": [
        "print(min(az))\n",
        "print(max(az))\n",
        "print(min(alt))\n",
        "print(max(alt))"
      ],
      "metadata": {
        "colab": {
          "base_uri": "https://localhost:8080/"
        },
        "id": "tTnTFyYga7AD",
        "outputId": "6629be09-a2af-4b69-ddf3-8028c4fdbd6a"
      },
      "execution_count": null,
      "outputs": [
        {
          "output_type": "stream",
          "name": "stdout",
          "text": [
            "0d02m44.50720805s\n",
            "359d58m42.04387003s\n",
            "-49d03m35.29870845s\n",
            "86d52m46.50289382s\n"
          ]
        }
      ]
    }
  ]
}